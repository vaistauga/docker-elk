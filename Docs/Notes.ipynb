{
 "cells": [
  {
   "attachments": {},
   "cell_type": "markdown",
   "metadata": {},
   "source": [
    "# Setup of ELK\n",
    "```docker compose up setup```\n",
    "then\n",
    "```docker comppose up```\n",
    "\n",
    "#Setup file beat\n",
    "change user password for file beat\n",
    "```docker-compose exec elasticsearch bin/elasticsearch-reset-password --batch --user logstash_internal```"
   ]
  },
  {
   "attachments": {},
   "cell_type": "markdown",
   "metadata": {},
   "source": [
    "#Notes\n",
    "Current logstash_internal psw:\n",
    "dZJZta2IqQI0W*HN=RPF"
   ]
  }
 ],
 "metadata": {
  "kernelspec": {
   "display_name": ".NET (C#)",
   "language": "C#",
   "name": ".net-csharp"
  },
  "language_info": {
   "name": "polyglot-notebook"
  },
  "polyglot_notebook": {
   "kernelInfo": {
    "defaultKernelName": "csharp",
    "items": [
     {
      "aliases": [],
      "languageName": "csharp",
      "name": "csharp"
     }
    ]
   }
  }
 },
 "nbformat": 4,
 "nbformat_minor": 2
}
